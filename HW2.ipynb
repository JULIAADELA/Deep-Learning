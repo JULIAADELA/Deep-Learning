{
  "cells": [
    {
      "cell_type": "markdown",
      "id": "a7823f3c",
      "metadata": {
        "id": "a7823f3c"
      },
      "source": [
        "# Bài 1:\n",
        "Cho bài toán XOR:\\\n",
        "Implement thuật toán neural network để giải bài toán dùng Pytorch"
      ]
    },
    {
      "cell_type": "code",
      "execution_count": 1,
      "id": "ec4458bc",
      "metadata": {
        "id": "ec4458bc"
      },
      "outputs": [],
      "source": [
        "import torch\n",
        "import torch.nn as nn"
      ]
    },
    {
      "cell_type": "code",
      "execution_count": 18,
      "id": "723660e3",
      "metadata": {
        "id": "723660e3"
      },
      "outputs": [],
      "source": [
        "import torch.optim as optim\n",
        "from torchvision import datasets, transforms\n",
        "from torch.utils.data import DataLoader\n",
        "import matplotlib.pyplot as plt\n",
        "import numpy as np"
      ]
    },
    {
      "cell_type": "code",
      "execution_count": 4,
      "id": "4397d82f",
      "metadata": {
        "colab": {
          "base_uri": "https://localhost:8080/"
        },
        "id": "4397d82f",
        "outputId": "eb21ea8f-ab72-409b-b87a-429d49713f2d"
      },
      "outputs": [
        {
          "output_type": "stream",
          "name": "stdout",
          "text": [
            "Epoch [1000/10000], Loss: 0.6931\n",
            "Epoch [2000/10000], Loss: 0.6931\n",
            "Epoch [3000/10000], Loss: 0.6929\n",
            "Epoch [4000/10000], Loss: 0.6926\n",
            "Epoch [5000/10000], Loss: 0.6912\n",
            "Epoch [6000/10000], Loss: 0.6822\n",
            "Epoch [7000/10000], Loss: 0.6259\n",
            "Epoch [8000/10000], Loss: 0.5097\n",
            "Epoch [9000/10000], Loss: 0.2719\n",
            "Epoch [10000/10000], Loss: 0.0978\n",
            "tensor([[0.0783],\n",
            "        [0.9118],\n",
            "        [0.9116],\n",
            "        [0.1170]])\n"
          ]
        }
      ],
      "source": [
        "# Tạo dữ liệu đầu vào và đầu ra cho bài toán XOR\n",
        "X = torch.tensor([[0, 0], [0, 1], [1, 0], [1, 1]], dtype=torch.float32)\n",
        "y = torch.tensor([[0], [1], [1], [0]], dtype=torch.float32)\n",
        "\n",
        "# Định nghĩa một mạng neural network đơn giản\n",
        "class XORModel(nn.Module):\n",
        "    def __init__(self):\n",
        "        super(XORModel, self).__init__()\n",
        "        self.fc1 = nn.Linear(2, 2)  # Tầng ẩn\n",
        "        self.fc2 = nn.Linear(2, 1)  # Tầng đầu ra\n",
        "\n",
        "    def forward(self, x):\n",
        "        x = torch.sigmoid(self.fc1(x))\n",
        "        x = torch.sigmoid(self.fc2(x))\n",
        "        return x\n",
        "\n",
        "# Khởi tạo mô hình và hàm mất mát\n",
        "model = XORModel()\n",
        "criterion = nn.BCELoss()  # Hàm mất mát binary cross entropy\n",
        "\n",
        "# Sử dụng optimizer (ví dụ: Stochastic Gradient Descent)\n",
        "optimizer = torch.optim.SGD(model.parameters(), lr=0.1)\n",
        "\n",
        "for epoch in range(10000):\n",
        "    optimizer.zero_grad()\n",
        "    outputs = model(X)\n",
        "    loss = criterion(outputs, y)\n",
        "    loss.backward()\n",
        "    optimizer.step()\n",
        "\n",
        "    if (epoch+1) % 1000 == 0:\n",
        "        print(f'Epoch [{epoch+1}/10000], Loss: {loss.item():.4f}')\n",
        "\n",
        "# Kiểm thử mô hình\n",
        "with torch.no_grad():\n",
        "    test_data = torch.tensor([[0, 0], [0, 1], [1, 0], [1, 1]], dtype=torch.float32)\n",
        "    predicted = model(test_data)\n",
        "    print(predicted)\n",
        "\n",
        "# Output sẽ cho kết quả xấp xỉ [0], [1], [1], [0]"
      ]
    },
    {
      "cell_type": "markdown",
      "id": "cb3a2062",
      "metadata": {
        "id": "cb3a2062"
      },
      "source": [
        "# Bài 2:\n",
        "Cho dataset MNIST\\\n",
        "Implement thuật toán neural network với dữ liệu trên sử dụng Pytorch\\\n",
        "Chỉnh learning rate, vẽ đồ thị loss tương ứng.\\\n",
        "Chia tập train/test tỉ lệ 80/20, tính các chỉ số MSE, RSME, MAE, MAPE trên tập test."
      ]
    },
    {
      "cell_type": "code",
      "execution_count": 11,
      "id": "16ad49e4",
      "metadata": {
        "colab": {
          "base_uri": "https://localhost:8080/"
        },
        "id": "16ad49e4",
        "outputId": "37bf8b24-fa9d-4d5a-db95-c158ba77f6cf"
      },
      "outputs": [
        {
          "output_type": "stream",
          "name": "stdout",
          "text": [
            "Epoch [1/10], Loss: 1.0178477889470963\n",
            "Epoch [2/10], Loss: 0.3868465848854864\n",
            "Epoch [3/10], Loss: 0.3274838478644011\n",
            "Epoch [4/10], Loss: 0.2949403242738262\n",
            "Epoch [5/10], Loss: 0.2712761698795089\n",
            "Epoch [6/10], Loss: 0.24955730986938293\n",
            "Epoch [7/10], Loss: 0.230514229042952\n",
            "Epoch [8/10], Loss: 0.2126153130044561\n",
            "Epoch [9/10], Loss: 0.19785904468916882\n",
            "Epoch [10/10], Loss: 0.18422457478098522\n"
          ]
        }
      ],
      "source": [
        "#Chuẩn bị dữ liệu MNIST và chia thành tập train/test:\n",
        "transform = transforms.Compose([transforms.ToTensor(), transforms.Normalize((0.5,), (0.5,))])\n",
        "\n",
        "train_set = datasets.MNIST(root='./data', train=True, transform=transform, download=True)\n",
        "train_loader = DataLoader(train_set, batch_size=64, shuffle=True)\n",
        "\n",
        "test_set = datasets.MNIST(root='./data', train=False, transform=transform, download=True)\n",
        "test_loader = DataLoader(test_set, batch_size=64, shuffle=False)\n",
        "\n",
        "#Xây dựng mạng neural network\n",
        "class NeuralNetwork(nn.Module):\n",
        "    def __init__(self):\n",
        "        super(NeuralNetwork, self).__init__()\n",
        "        self.fc1 = nn.Linear(28 * 28, 128)\n",
        "        self.fc2 = nn.Linear(128, 64)\n",
        "        self.fc3 = nn.Linear(64, 10)\n",
        "\n",
        "    def forward(self, x):\n",
        "        x = x.view(-1, 28 * 28)\n",
        "        x = torch.relu(self.fc1(x))\n",
        "        x = torch.relu(self.fc2(x))\n",
        "        x = self.fc3(x)\n",
        "        return x\n",
        "\n",
        "model = NeuralNetwork()\n",
        "\n",
        "#Chọn hàm loss và optimizer:\n",
        "criterion = nn.CrossEntropyLoss()\n",
        "optimizer = optim.SGD(model.parameters(), lr=0.01)\n",
        "\n",
        "#Huấn luyện mô hình:\n",
        "n_epochs = 10\n",
        "losses = []\n",
        "\n",
        "for epoch in range(n_epochs):\n",
        "    running_loss = 0.0\n",
        "    for images, labels in train_loader:\n",
        "        optimizer.zero_grad()\n",
        "        outputs = model(images)\n",
        "        loss = criterion(outputs, labels)\n",
        "        loss.backward()\n",
        "        optimizer.step()\n",
        "        running_loss += loss.item()\n",
        "    losses.append(running_loss / len(train_loader))\n",
        "\n",
        "    print(f'Epoch [{epoch + 1}/{n_epochs}], Loss: {running_loss / len(train_loader)}')"
      ]
    },
    {
      "cell_type": "code",
      "execution_count": 12,
      "id": "70b622d9",
      "metadata": {
        "colab": {
          "base_uri": "https://localhost:8080/",
          "height": 449
        },
        "id": "70b622d9",
        "outputId": "2d17b8e9-83a3-4e48-bd24-34d0c77a14ef"
      },
      "outputs": [
        {
          "output_type": "display_data",
          "data": {
            "text/plain": [
              "<Figure size 640x480 with 1 Axes>"
            ],
            "image/png": "[encoded data removed]"
          },
          "metadata": {}
        }
      ],
      "source": [
        "#Vẽ đồ thị loss:\n",
        "plt.plot(losses)\n",
        "plt.xlabel('Epochs')\n",
        "plt.ylabel('Loss')\n",
        "plt.show()"
      ]
    },
    {
      "cell_type": "code",
      "execution_count": 30,
      "id": "f11a2a19",
      "metadata": {
        "colab": {
          "base_uri": "https://localhost:8080/"
        },
        "id": "f11a2a19",
        "outputId": "e17b3e79-f946-49d2-abe5-9a249ad5b7c3"
      },
      "outputs": [
        {
          "output_type": "stream",
          "name": "stdout",
          "text": [
            "Test MSE: 59.917198181152344\n",
            "Test RMSE: 7.740620136260986\n",
            "Test MAE: 0\n",
            "Test MAPE: nan\n"
          ]
        }
      ],
      "source": [
        "# Tính toán các chỉ số MSE, RSME, MAE, MAPE trên tập test\n",
        "test_mse = 0\n",
        "test_rmse = 0\n",
        "test_mae = 0\n",
        "test_mape = 0\n",
        "\n",
        "# Lặp qua từng batch dữ liệu trong tập test\n",
        "for images, labels in test_loader:\n",
        "    # Truyền dữ liệu vào mô hình\n",
        "    outputs = model(images)\n",
        "\n",
        "    # Tính toán các chỉ số khác\n",
        "    _, predicted = torch.max(outputs.data, 1)\n",
        "    diff = predicted - labels\n",
        "    test_mse += torch.sum(diff ** 2)\n",
        "    test_rmse = torch.sqrt(test_mse / len(test_loader))\n",
        "    test_mae = torch.sum(torch.abs(diff))\n",
        "    test_mape = torch.sum(diff / labels)\n",
        "\n",
        "print(\"Test MSE: {}\".format(test_mse / len(test_loader)))\n",
        "print(\"Test RMSE: {}\".format(test_rmse))\n",
        "print(\"Test MAE: {}\".format(test_mae))\n",
        "print(\"Test MAPE: {}\".format(test_mape))\n"
      ]
    },
    {
      "cell_type": "markdown",
      "id": "d1fefc72",
      "metadata": {
        "id": "d1fefc72"
      },
      "source": [
        "# Bài 3:\n",
        "Tại sao hàm softmax lại dùng exponential function (e) mà không phải số khác như 2, 3 hoặc 4"
      ]
    },
    {
      "cell_type": "markdown",
      "id": "efb8d266",
      "metadata": {
        "id": "efb8d266"
      },
      "source": [
        "- Hàm softmax được sử dụng trong machine learning và deep learning để chuyển đổi đầu ra của một mô hình thành một phân phối xác suất. Nó đảm bảo rằng tổng các xác suất đầu ra luôn bằng 1, giúp chúng ta có thể tạo ra một dự đoán xác suất có ý nghĩa.\n",
        "\n",
        "- Hàm softmax sử dụng exponential function (e) bởi vì nó có một số tính chất quan trọng khiến nó thích hợp cho việc tạo ra phân phối xác suất. Dưới đây là một số lý do:\n",
        "\n",
        "  + Chuyển đổi thành xác suất: Exponential function (e) có tính chất duy nhất, khiến cho kết quả luôn là một số dương và không bao giờ âm hoặc bằng 0. Điều này đảm bảo rằng mỗi phần tử trong phân phối xác suất sau khi áp dụng softmax đều dương, và tổng của chúng bằng 1.\n",
        "  \n",
        "  + Tính chất mượt (smoothness): Exponential function tăng rất nhanh khi x tiến tới dương. Điều này có thể giúp mô hình tập trung nhiều vào một lớp hoặc nhóm lớp cụ thể, trong khi cũng cho phép một ít sự \"phân tán\" đến các lớp khác.\n",
        "  \n",
        "  + Đạo hàm dễ tính toán: Exponential function (e) có đạo hàm dễ tính toán và cực kỳ hữu ích trong quá trình huấn luyện mô hình sử dụng phương pháp lan truyền ngược (backpropagation). Điều này giúp cho việc điều chỉnh các trọng số trong mô hình trở nên hiệu quả.\n",
        "  \n",
        "  + Quan hệ với phân phối Gaussian (chuẩn): Exponential function liên quan mật thiết với phân phối Gaussian (chuẩn) thông qua biểu thức softmax, giúp tạo ra một sự kết nối quan trọng với các khái niệm thống kê.\n",
        "\n",
        "=> Tóm lại, exponential function (e) được sử dụng trong hàm softmax bởi vì nó mang lại nhiều tính chất quan trọng giúp đảm bảo tính chất xác suất và dễ quản lý trong quá trình huấn luyện mô hình."
      ]
    }
  ],
  "metadata": {
    "kernelspec": {
      "display_name": "Python 3 (ipykernel)",
      "language": "python",
      "name": "python3"
    },
    "language_info": {
      "codemirror_mode": {
        "name": "ipython",
        "version": 3
      },
      "file_extension": ".py",
      "mimetype": "text/x-python",
      "name": "python",
      "nbconvert_exporter": "python",
      "pygments_lexer": "ipython3",
      "version": "3.10.9"
    },
    "colab": {
      "provenance": []
    }
  },
  "nbformat": 4,
  "nbformat_minor": 5
}